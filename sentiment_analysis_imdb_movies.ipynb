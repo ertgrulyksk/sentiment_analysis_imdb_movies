{
  "nbformat": 4,
  "nbformat_minor": 0,
  "metadata": {
    "colab": {
      "provenance": [],
      "collapsed_sections": [],
      "authorship_tag": "ABX9TyOiFlRd0p1dB7RoNzg4eEzJ",
      "include_colab_link": true
    },
    "kernelspec": {
      "name": "python3",
      "display_name": "Python 3"
    },
    "language_info": {
      "name": "python"
    }
  },
  "cells": [
    {
      "cell_type": "markdown",
      "metadata": {
        "id": "view-in-github",
        "colab_type": "text"
      },
      "source": [
        "<a href=\"https://colab.research.google.com/github/ertgrulyksk/sentiment_analysis_imdb_movies/blob/main/sentiment_analysis_imdb_movies.ipynb\" target=\"_parent\"><img src=\"https://colab.research.google.com/assets/colab-badge.svg\" alt=\"Open In Colab\"/></a>"
      ]
    },
    {
      "cell_type": "code",
      "execution_count": 1,
      "metadata": {
        "id": "W57saNH5xsvN"
      },
      "outputs": [],
      "source": [
        "import numpy as np\n",
        "import matplotlib.pyplot as plt\n",
        "import seaborn as sns\n",
        "from scipy import stats\n",
        "\n",
        "from keras.datasets import imdb\n",
        "from keras.preprocessing.sequence import pad_sequences\n",
        "from keras.models import Sequential\n",
        "from keras.layers.embeddings import Embedding\n",
        "from keras.layers import SimpleRNN, Dense, Activation\n",
        "\n",
        "import warnings \n",
        "warnings.filterwarnings('ignore')"
      ]
    },
    {
      "cell_type": "code",
      "source": [
        "(X_egitim, Y_egitim), (X_test, Y_test) = imdb.load_data(path = \"ibdb.npz\", \n",
        "                                                        num_words = None, \n",
        "                                                        skip_top = 0, \n",
        "                                                        maxlen = None, \n",
        "                                                        seed = 113, \n",
        "                                                        start_char = 1, \n",
        "                                                        oov_char = 2, \n",
        "                                                        index_from = 3)\n",
        "                                                        "
      ],
      "metadata": {
        "colab": {
          "base_uri": "https://localhost:8080/"
        },
        "id": "sKajkU3AzL0g",
        "outputId": "d04db22a-f873-44a1-e5e4-94929297f5c1"
      },
      "execution_count": 2,
      "outputs": [
        {
          "output_type": "stream",
          "name": "stdout",
          "text": [
            "Downloading data from https://storage.googleapis.com/tensorflow/tf-keras-datasets/imdb.npz\n",
            "17465344/17464789 [==============================] - 0s 0us/step\n",
            "17473536/17464789 [==============================] - 0s 0us/step\n"
          ]
        }
      ]
    },
    {
      "cell_type": "code",
      "source": [
        "print(\"X eğitim tipi: \", type(X_egitim))\n",
        "print(\"Y eğitim tipi: \", type(Y_egitim))"
      ],
      "metadata": {
        "colab": {
          "base_uri": "https://localhost:8080/"
        },
        "id": "ObtlqYel21hF",
        "outputId": "5aa45492-34ff-497b-f11e-46f579d8b411"
      },
      "execution_count": 3,
      "outputs": [
        {
          "output_type": "stream",
          "name": "stdout",
          "text": [
            "X eğitim tipi:  <class 'numpy.ndarray'>\n",
            "Y eğitim tipi:  <class 'numpy.ndarray'>\n"
          ]
        }
      ]
    },
    {
      "cell_type": "code",
      "source": [
        "print(\"X eğitim şekli: \",X_egitim.shape)\n",
        "print(\"Y eğitim şekli: \",Y_egitim.shape)"
      ],
      "metadata": {
        "colab": {
          "base_uri": "https://localhost:8080/"
        },
        "id": "OeO-FJoh3E4W",
        "outputId": "087b1cef-7a76-45a3-b5e8-deacb6b3833d"
      },
      "execution_count": 4,
      "outputs": [
        {
          "output_type": "stream",
          "name": "stdout",
          "text": [
            "X eğitim şekli:  (25000,)\n",
            "Y eğitim şekli:  (25000,)\n"
          ]
        }
      ]
    },
    {
      "cell_type": "code",
      "source": [
        "print(\"Y eğitim değerleri: \",np.unique(Y_egitim))\n",
        "print(\"Y test değerleri: \",np.unique(Y_test))"
      ],
      "metadata": {
        "colab": {
          "base_uri": "https://localhost:8080/"
        },
        "id": "kpwgEGUS3Tep",
        "outputId": "a7b5ee99-d8db-4365-acc7-aeaa91b28ae5"
      },
      "execution_count": 5,
      "outputs": [
        {
          "output_type": "stream",
          "name": "stdout",
          "text": [
            "Y eğitim değerleri:  [0 1]\n",
            "Y test değerleri:  [0 1]\n"
          ]
        }
      ]
    },
    {
      "cell_type": "code",
      "source": [
        "unique, counts = np.unique(Y_egitim, return_counts = True)\n",
        "print(\"Y eğitim dağılımı: \",dict(zip(unique,counts)))"
      ],
      "metadata": {
        "colab": {
          "base_uri": "https://localhost:8080/"
        },
        "id": "vaw-9gek3kvK",
        "outputId": "5f5ba5e3-afbc-424d-c3aa-c5923a43cb10"
      },
      "execution_count": 6,
      "outputs": [
        {
          "output_type": "stream",
          "name": "stdout",
          "text": [
            "Y eğitim dağılımı:  {0: 12500, 1: 12500}\n"
          ]
        }
      ]
    },
    {
      "cell_type": "code",
      "source": [
        "unique, counts = np.unique(Y_test, return_counts = True)\n",
        "print(\"Y test dağılımı: \",dict(zip(unique,counts)))"
      ],
      "metadata": {
        "colab": {
          "base_uri": "https://localhost:8080/"
        },
        "id": "y18NX4kj32J0",
        "outputId": "7a42410a-55aa-4d52-f91e-f68419b8addc"
      },
      "execution_count": 7,
      "outputs": [
        {
          "output_type": "stream",
          "name": "stdout",
          "text": [
            "Y test dağılımı:  {0: 12500, 1: 12500}\n"
          ]
        }
      ]
    },
    {
      "cell_type": "code",
      "source": [
        "plt.figure()\n",
        "sns.countplot(Y_egitim)\n",
        "plt.xlabel(\"Sınıflar\")\n",
        "plt.ylabel(\"Frekans\")\n",
        "plt.title(\"Y Eğitim\")\n",
        "plt.show()"
      ],
      "metadata": {
        "colab": {
          "base_uri": "https://localhost:8080/",
          "height": 295
        },
        "id": "AwRfuqXK4IJR",
        "outputId": "07879ca0-cac9-4c0d-dafa-88c57eca350b"
      },
      "execution_count": 8,
      "outputs": [
        {
          "output_type": "display_data",
          "data": {
            "text/plain": [
              "<Figure size 432x288 with 1 Axes>"
            ],
            "image/png": "[encoded data removed]"
          },
          "metadata": {
            "needs_background": "light"
          }
        }
      ]
    },
    {
      "cell_type": "code",
      "source": [
        "plt.figure()\n",
        "sns.countplot(Y_test)\n",
        "plt.xlabel(\"Sınıflar\")\n",
        "plt.ylabel(\"Frekans\")\n",
        "plt.title(\"Y Test\")\n",
        "plt.show()"
      ],
      "metadata": {
        "colab": {
          "base_uri": "https://localhost:8080/",
          "height": 295
        },
        "id": "9is6QaRF4b-T",
        "outputId": "c96f89f5-56a5-4b55-dee6-40775f496fc5"
      },
      "execution_count": 9,
      "outputs": [
        {
          "output_type": "display_data",
          "data": {
            "text/plain": [
              "<Figure size 432x288 with 1 Axes>"
            ],
            "image/png": "[encoded data removed]"
          },
          "metadata": {
            "needs_background": "light"
          }
        }
      ]
    },
    {
      "cell_type": "code",
      "source": [
        "yorum = X_egitim[0]\n",
        "print(\"Yorum: \")\n",
        "print(yorum)\n",
        "print(\"Yorum kelime sayısı: \",len(yorum))"
      ],
      "metadata": {
        "colab": {
          "base_uri": "https://localhost:8080/"
        },
        "id": "qcKvnRce4kmz",
        "outputId": "63631909-0dfd-4056-9391-e33bc157c878"
      },
      "execution_count": 10,
      "outputs": [
        {
          "output_type": "stream",
          "name": "stdout",
          "text": [
            "Yorum: \n",
            "[1, 14, 22, 16, 43, 530, 973, 1622, 1385, 65, 458, 4468, 66, 3941, 4, 173, 36, 256, 5, 25, 100, 43, 838, 112, 50, 670, 22665, 9, 35, 480, 284, 5, 150, 4, 172, 112, 167, 21631, 336, 385, 39, 4, 172, 4536, 1111, 17, 546, 38, 13, 447, 4, 192, 50, 16, 6, 147, 2025, 19, 14, 22, 4, 1920, 4613, 469, 4, 22, 71, 87, 12, 16, 43, 530, 38, 76, 15, 13, 1247, 4, 22, 17, 515, 17, 12, 16, 626, 18, 19193, 5, 62, 386, 12, 8, 316, 8, 106, 5, 4, 2223, 5244, 16, 480, 66, 3785, 33, 4, 130, 12, 16, 38, 619, 5, 25, 124, 51, 36, 135, 48, 25, 1415, 33, 6, 22, 12, 215, 28, 77, 52, 5, 14, 407, 16, 82, 10311, 8, 4, 107, 117, 5952, 15, 256, 4, 31050, 7, 3766, 5, 723, 36, 71, 43, 530, 476, 26, 400, 317, 46, 7, 4, 12118, 1029, 13, 104, 88, 4, 381, 15, 297, 98, 32, 2071, 56, 26, 141, 6, 194, 7486, 18, 4, 226, 22, 21, 134, 476, 26, 480, 5, 144, 30, 5535, 18, 51, 36, 28, 224, 92, 25, 104, 4, 226, 65, 16, 38, 1334, 88, 12, 16, 283, 5, 16, 4472, 113, 103, 32, 15, 16, 5345, 19, 178, 32]\n",
            "Yorum kelime sayısı:  218\n"
          ]
        }
      ]
    },
    {
      "cell_type": "code",
      "source": [
        "word_index = imdb.get_word_index()\n",
        "print(\"Kelime sayısı: \",len(word_index))"
      ],
      "metadata": {
        "colab": {
          "base_uri": "https://localhost:8080/"
        },
        "id": "evrzJFYL44Ii",
        "outputId": "5cd95bd3-3fd4-4dd1-d7e1-c44f4c07c330"
      },
      "execution_count": 11,
      "outputs": [
        {
          "output_type": "stream",
          "name": "stdout",
          "text": [
            "Downloading data from https://storage.googleapis.com/tensorflow/tf-keras-datasets/imdb_word_index.json\n",
            "1646592/1641221 [==============================] - 0s 0us/step\n",
            "1654784/1641221 [==============================] - 0s 0us/step\n",
            "Kelime sayısı:  88584\n"
          ]
        }
      ]
    },
    {
      "cell_type": "code",
      "source": [
        "for keys, values in word_index.items():\n",
        "    if values == 1:\n",
        "        print(keys)"
      ],
      "metadata": {
        "colab": {
          "base_uri": "https://localhost:8080/"
        },
        "id": "PMKlq_5G5CKu",
        "outputId": "6746b23f-508c-476f-9805-fcc5a927f784"
      },
      "execution_count": 12,
      "outputs": [
        {
          "output_type": "stream",
          "name": "stdout",
          "text": [
            "the\n"
          ]
        }
      ]
    },
    {
      "cell_type": "code",
      "source": [
        "def neSoyledi(index = 24):\n",
        "    \n",
        "    ters_indeks = dict([(value, key)\n",
        "                        for (key, value) in word_index.items()])\n",
        "    yorumu_coz = \" \".join([ters_indeks.get(i - 3, \"!\")\n",
        "                        for i in X_egitim[index]])\n",
        "    print(\"Yorum: \",index)\n",
        "    print(yorumu_coz)\n",
        "    print()\n",
        "    if Y_egitim[index] == 0:\n",
        "        print(\"Olumsuz\")\n",
        "    else:\n",
        "        print(\"Olumlu\")\n",
        "    print()\n",
        "\n",
        "neSoyledi(36)"
      ],
      "metadata": {
        "colab": {
          "base_uri": "https://localhost:8080/"
        },
        "id": "vFXuhWxq5U1K",
        "outputId": "29339f17-314a-411e-bd72-f1f05629db7b"
      },
      "execution_count": 13,
      "outputs": [
        {
          "output_type": "stream",
          "name": "stdout",
          "text": [
            "Yorum:  36\n",
            "! sorry i just didn't find the subject matter as compelling as the filmmaker did the robot guy and the mole rat guy were pretty interesting although morris didn't really tell us much about them the other two subjects were a bore and the supposed connections between them didn't hold up\n",
            "\n",
            "Olumsuz\n",
            "\n"
          ]
        }
      ]
    },
    {
      "cell_type": "code",
      "source": [
        "neSoyledi(0)"
      ],
      "metadata": {
        "colab": {
          "base_uri": "https://localhost:8080/"
        },
        "id": "FLUPMfUa6si9",
        "outputId": "3f277859-6208-4650-a3c8-24b0f424296b"
      },
      "execution_count": 14,
      "outputs": [
        {
          "output_type": "stream",
          "name": "stdout",
          "text": [
            "Yorum:  0\n",
            "! this film was just brilliant casting location scenery story direction everyone's really suited the part they played and you could just imagine being there robert redford's is an amazing actor and now the same being director norman's father came from the same scottish island as myself so i loved the fact there was a real connection with this film the witty remarks throughout the film were great it was just brilliant so much that i bought the film as soon as it was released for retail and would recommend it to everyone to watch and the fly fishing was amazing really cried at the end it was so sad and you know what they say if you cry at a film it must have been good and this definitely was also congratulations to the two little boy's that played the part's of norman and paul they were just brilliant children are often left out of the praising list i think because the stars that play them all grown up are such a big profile for the whole film but these children are amazing and should be praised for what they have done don't you think the whole story was so lovely because it was true and was someone's life after all that was shared with us all\n",
            "\n",
            "Olumlu\n",
            "\n"
          ]
        }
      ]
    },
    {
      "cell_type": "code",
      "source": [
        "num_words = 15000\n",
        "(X_egitim, Y_egitim), (X_test, Y_test) = imdb.load_data(num_words=num_words)"
      ],
      "metadata": {
        "colab": {
          "base_uri": "https://localhost:8080/"
        },
        "id": "l1e_xrbaLOzI",
        "outputId": "8682c185-40e7-4c1e-909c-f85fa08e98b6"
      },
      "execution_count": 15,
      "outputs": [
        {
          "output_type": "stream",
          "name": "stdout",
          "text": [
            "Downloading data from https://storage.googleapis.com/tensorflow/tf-keras-datasets/imdb.npz\n",
            "17465344/17464789 [==============================] - 0s 0us/step\n",
            "17473536/17464789 [==============================] - 0s 0us/step\n"
          ]
        }
      ]
    },
    {
      "cell_type": "code",
      "source": [
        "maxlen = 130 \n",
        "X_egitim = pad_sequences(X_egitim, maxlen=maxlen)\n",
        "X_test = pad_sequences(X_test, maxlen=maxlen)\n",
        "\n",
        "print(X_egitim[5])"
      ],
      "metadata": {
        "colab": {
          "base_uri": "https://localhost:8080/"
        },
        "id": "bdZ5vZvbLN_E",
        "outputId": "72d0c747-1e50-4418-99be-33f5368c52d2"
      },
      "execution_count": 16,
      "outputs": [
        {
          "output_type": "stream",
          "name": "stdout",
          "text": [
            "[   0    0    0    0    0    0    0    0    0    0    0    0    0    0\n",
            "    0    0    0    0    0    0    0    0    0    0    0    0    0    0\n",
            "    0    0    0    0    0    0    0    0    0    0    0    0    0    0\n",
            "    0    0    0    0    0    0    0    0    0    0    0    0    0    0\n",
            "    0    0    0    0    0    0    0    0    0    0    0    0    0    0\n",
            "    0    0    0    0    0    0    0    0    0    0    0    0    0    0\n",
            "    0    0    0    1  778  128   74   12  630  163   15    4 1766 7982\n",
            " 1051    2   32   85  156   45   40  148  139  121  664  665   10   10\n",
            " 1361  173    4  749    2   16 3804    8    4  226   65   12   43  127\n",
            "   24    2   10   10]\n"
          ]
        }
      ]
    },
    {
      "cell_type": "code",
      "source": [
        "rnn = Sequential()\n",
        "rnn.add(Embedding(num_words, 32, input_length = len(X_egitim[0])))\n",
        "rnn.add(SimpleRNN(16, input_shape = (num_words, maxlen), return_sequences = False, activation = \"relu\"))\n",
        "\n",
        "rnn.add(Dense(1))\n",
        "rnn.add(Activation(\"sigmoid\"))\n",
        "print(rnn.summary())"
      ],
      "metadata": {
        "colab": {
          "base_uri": "https://localhost:8080/"
        },
        "id": "F3OOx8RDSvdv",
        "outputId": "bf94a924-0138-42b6-c559-e32fb7966f72"
      },
      "execution_count": 17,
      "outputs": [
        {
          "output_type": "stream",
          "name": "stdout",
          "text": [
            "Model: \"sequential\"\n",
            "_________________________________________________________________\n",
            " Layer (type)                Output Shape              Param #   \n",
            "=================================================================\n",
            " embedding (Embedding)       (None, 130, 32)           480000    \n",
            "                                                                 \n",
            " simple_rnn (SimpleRNN)      (None, 16)                784       \n",
            "                                                                 \n",
            " dense (Dense)               (None, 1)                 17        \n",
            "                                                                 \n",
            " activation (Activation)     (None, 1)                 0         \n",
            "                                                                 \n",
            "=================================================================\n",
            "Total params: 480,801\n",
            "Trainable params: 480,801\n",
            "Non-trainable params: 0\n",
            "_________________________________________________________________\n",
            "None\n"
          ]
        }
      ]
    },
    {
      "cell_type": "code",
      "source": [
        "rnn.compile(loss = \"binary_crossentropy\", optimizer = \"rmsprop\", metrics = [\"accuracy\"])"
      ],
      "metadata": {
        "id": "ovzyX6pjSu_b"
      },
      "execution_count": 18,
      "outputs": []
    },
    {
      "cell_type": "code",
      "source": [
        "tarih = rnn.fit(X_egitim, Y_egitim, validation_data = (X_test, Y_test), epochs = 5, batch_size = 128, verbose = 1)"
      ],
      "metadata": {
        "colab": {
          "base_uri": "https://localhost:8080/"
        },
        "id": "0jjW_IKOSuiB",
        "outputId": "ef81c395-d6a6-42aa-d3e1-221cfd75911a"
      },
      "execution_count": 19,
      "outputs": [
        {
          "output_type": "stream",
          "name": "stdout",
          "text": [
            "Epoch 1/5\n",
            "196/196 [==============================] - 12s 49ms/step - loss: 0.6536 - accuracy: 0.6249 - val_loss: 0.6048 - val_accuracy: 0.6950\n",
            "Epoch 2/5\n",
            "196/196 [==============================] - 10s 54ms/step - loss: 0.4372 - accuracy: 0.8124 - val_loss: 0.3507 - val_accuracy: 0.8445\n",
            "Epoch 3/5\n",
            "196/196 [==============================] - 9s 47ms/step - loss: 0.3192 - accuracy: 0.8653 - val_loss: 0.3601 - val_accuracy: 0.8318\n",
            "Epoch 4/5\n",
            "196/196 [==============================] - 9s 48ms/step - loss: 0.2572 - accuracy: 0.8957 - val_loss: 0.3256 - val_accuracy: 0.8576\n",
            "Epoch 5/5\n",
            "196/196 [==============================] - 9s 48ms/step - loss: 0.2213 - accuracy: 0.9115 - val_loss: 0.3603 - val_accuracy: 0.8392\n"
          ]
        }
      ]
    },
    {
      "cell_type": "code",
      "source": [
        "dogruluk = rnn.evaluate(X_test, Y_test)\n",
        "print(\"Test Doğruluk: %\",dogruluk[1]*100)"
      ],
      "metadata": {
        "colab": {
          "base_uri": "https://localhost:8080/"
        },
        "id": "aKD1VMWyLM0w",
        "outputId": "8aa8af49-b1ae-4b64-f8ee-db7c41ef0a4f"
      },
      "execution_count": 20,
      "outputs": [
        {
          "output_type": "stream",
          "name": "stdout",
          "text": [
            "782/782 [==============================] - 7s 8ms/step - loss: 0.3603 - accuracy: 0.8392\n",
            "Test Doğruluk: % 83.924001455307\n"
          ]
        }
      ]
    },
    {
      "cell_type": "code",
      "source": [
        "plt.figure()\n",
        "plt.plot(tarih.history[\"accuracy\"], label = \"Eğitim\")\n",
        "plt.plot(tarih.history[\"val_accuracy\"], label = \"Test\")\n",
        "plt.title(\"Doğruluk\")\n",
        "plt.ylabel(\"Doğruluk\")\n",
        "plt.xlabel(\"İterasyon\")\n",
        "plt.legend()\n",
        "plt.show()"
      ],
      "metadata": {
        "colab": {
          "base_uri": "https://localhost:8080/",
          "height": 297
        },
        "id": "_TqbVGP0Stfm",
        "outputId": "46b22fe6-ee25-47ed-d811-ae03ffd807cc"
      },
      "execution_count": 24,
      "outputs": [
        {
          "output_type": "display_data",
          "data": {
            "text/plain": [
              "<Figure size 432x288 with 1 Axes>"
            ],
            "image/png": "[encoded data removed]"
          },
          "metadata": {
            "needs_background": "light"
          }
        }
      ]
    },
    {
      "cell_type": "code",
      "source": [
        "plt.figure()\n",
        "plt.plot(tarih.history[\"loss\"], label = \"Eğitim\")\n",
        "plt.plot(tarih.history[\"val_loss\"], label = \"Test\")\n",
        "plt.title(\"Doğruluk\")\n",
        "plt.ylabel(\"Doğruluk\")\n",
        "plt.xlabel(\"İterasyon\")\n",
        "plt.legend()\n",
        "plt.show()"
      ],
      "metadata": {
        "colab": {
          "base_uri": "https://localhost:8080/",
          "height": 297
        },
        "id": "bEN19YLCV-f2",
        "outputId": "ba66765d-be02-4365-9742-16bf611ccb99"
      },
      "execution_count": 26,
      "outputs": [
        {
          "output_type": "display_data",
          "data": {
            "text/plain": [
              "<Figure size 432x288 with 1 Axes>"
            ],
            "image/png": "[encoded data removed]"
          },
          "metadata": {
            "needs_background": "light"
          }
        }
      ]
    }
  ]
}